{
  "nbformat": 4,
  "nbformat_minor": 0,
  "metadata": {
    "colab": {
      "name": "Pandas 기초",
      "provenance": []
    },
    "kernelspec": {
      "name": "python3",
      "display_name": "Python 3"
    }
  },
  "cells": [
    {
      "cell_type": "code",
      "metadata": {
        "id": "BAbjzZ-Pppyw",
        "colab_type": "code",
        "colab": {}
      },
      "source": [
        "import numpy as np\n",
        "import matplotlib.pyplot as plt\n",
        "import pandas as pd\n",
        "import seaborn as sns"
      ],
      "execution_count": 0,
      "outputs": []
    },
    {
      "cell_type": "code",
      "metadata": {
        "id": "AAo87-yZeC8-",
        "colab_type": "code",
        "colab": {
          "base_uri": "https://localhost:8080/",
          "height": 111
        },
        "outputId": "c31fba6a-1bb3-4cdd-fc58-e00369e8d94e"
      },
      "source": [
        "fruit=pd.Series(['apple','banana','pear'],index=['a','b','c'])\n",
        "print(fruit)\n",
        "print(fruit['a'])"
      ],
      "execution_count": 12,
      "outputs": [
        {
          "output_type": "stream",
          "text": [
            "a     apple\n",
            "b    banana\n",
            "c      pear\n",
            "dtype: object\n",
            "apple\n"
          ],
          "name": "stdout"
        }
      ]
    },
    {
      "cell_type": "code",
      "metadata": {
        "id": "M3T94O42g-yt",
        "colab_type": "code",
        "colab": {
          "base_uri": "https://localhost:8080/",
          "height": 92
        },
        "outputId": "9b6f1f6f-49ea-4707-e28f-6893026ff9f0"
      },
      "source": [
        "fruit_dict={'apple':'사과','banana':'바나나','pear':'배'}\n",
        "frequency_dict={'apple':3,'banana':5,'pear':7}\n",
        "\n",
        "fruit=pd.Series(fruit_dict)\n",
        "frequency=pd.Series(frequency_dict)\n",
        "\n",
        "summary=pd.DataFrame({'fruit':fruit,'frequency':frequency})\n",
        "\n",
        "print(summary)"
      ],
      "execution_count": 13,
      "outputs": [
        {
          "output_type": "stream",
          "text": [
            "       fruit  frequency\n",
            "apple     사과          3\n",
            "banana   바나나          5\n",
            "pear       배          7\n"
          ],
          "name": "stdout"
        }
      ]
    },
    {
      "cell_type": "code",
      "metadata": {
        "id": "OHiCGlW1lCZr",
        "colab_type": "code",
        "colab": {
          "base_uri": "https://localhost:8080/",
          "height": 92
        },
        "outputId": "59d717dc-b07b-42d4-815f-964c2dab4356"
      },
      "source": [
        "word_dict={'apple':'사과','banana':'바나나','pear':'배'}\n",
        "frequency_dict={'apple':3,'banana':5,'pear':7}\n",
        "importance_dict={'apple':2,'banana':3,'pear':4}\n",
        "\n",
        "word=pd.Series(word_dict)\n",
        "frequency=pd.Series(frequency_dict)\n",
        "importance=pd.Series(importance_dict)\n",
        "\n",
        "summary=pd.DataFrame({'word':word,'frequency':frequency,'importance':importance})\n",
        "\n",
        "score=summary['frequency']*summary['importance']\n",
        "summary['score']=score\n",
        "\n",
        "print(summary)"
      ],
      "execution_count": 18,
      "outputs": [
        {
          "output_type": "stream",
          "text": [
            "       word  frequency  importance  score\n",
            "apple    사과          3           2      6\n",
            "banana  바나나          5           3     15\n",
            "pear      배          7           4     28\n"
          ],
          "name": "stdout"
        }
      ]
    },
    {
      "cell_type": "code",
      "metadata": {
        "id": "6umq1QL3nNvj",
        "colab_type": "code",
        "colab": {
          "base_uri": "https://localhost:8080/",
          "height": 223
        },
        "outputId": "d6b2e4f5-6352-4263-f543-e10f00e1caba"
      },
      "source": [
        "word_dict={'apple':'사과','banana':'바나나','pear':'배','watermelon':'수박'}\n",
        "frequency_dict={'apple':3,'banana':5,'pear':6,'watermelon':2}\n",
        "importance_dict={'apple':5,'banana':4,'pear':2,'watermelon':3}\n",
        "\n",
        "word=pd.Series(word_dict)\n",
        "frequency=pd.Series(frequency_dict)\n",
        "importance=pd.Series(importance_dict)\n",
        "\n",
        "summary=pd.DataFrame({'word':word,'frequency':frequency,'importance':importance})\n",
        "print(summary)\n",
        "\n",
        "print(summary.loc['banana':'pear','importance':])\n",
        "\n",
        "print(summary.iloc[1:3,2:])\n"
      ],
      "execution_count": 53,
      "outputs": [
        {
          "output_type": "stream",
          "text": [
            "           word  frequency  importance\n",
            "apple        사과          3           5\n",
            "banana      바나나          5           4\n",
            "pear          배          6           2\n",
            "watermelon   수박          2           3\n",
            "        importance\n",
            "banana           4\n",
            "pear             2\n",
            "        importance\n",
            "banana           4\n",
            "pear             2\n"
          ],
          "name": "stdout"
        }
      ]
    },
    {
      "cell_type": "code",
      "metadata": {
        "id": "7MKzJ4WLo_yd",
        "colab_type": "code",
        "colab": {
          "base_uri": "https://localhost:8080/",
          "height": 223
        },
        "outputId": "7cec40ee-09f1-4cdb-8db4-db5030889017"
      },
      "source": [
        "word_dict={'apple':'사과','banana':'바나나','pear':'배','watermelon':'수박'}\n",
        "frequency_dict={'apple':3,'banana':5,'pear':6,'watermelon':2}\n",
        "importance_dict={'apple':5,'banana':4,'pear':2,'watermelon':3}\n",
        "\n",
        "word=pd.Series(word_dict)\n",
        "frequency=pd.Series(frequency_dict)\n",
        "importance=pd.Series(importance_dict)\n",
        "\n",
        "summary=pd.DataFrame({'word':word,'frequency':frequency,'importance':importance})\n",
        "print(summary)\n",
        "\n",
        "summary.loc['apple','importance']=2\n",
        "summary.loc['Elderberry']=['엘더베리',3,1]\n",
        "print(summary)"
      ],
      "execution_count": 60,
      "outputs": [
        {
          "output_type": "stream",
          "text": [
            "           word  frequency  importance\n",
            "apple        사과          3           5\n",
            "banana      바나나          5           4\n",
            "pear          배          6           2\n",
            "watermelon   수박          2           3\n",
            "            word  frequency  importance\n",
            "apple         사과          3           2\n",
            "banana       바나나          5           4\n",
            "pear           배          6           2\n",
            "watermelon    수박          2           3\n",
            "Elderberry  엘더베리          3           1\n"
          ],
          "name": "stdout"
        }
      ]
    },
    {
      "cell_type": "code",
      "metadata": {
        "id": "CFvxzjbhsAsk",
        "colab_type": "code",
        "colab": {
          "base_uri": "https://localhost:8080/",
          "height": 129
        },
        "outputId": "c52d6604-9086-4734-a456-5353bb3a8879"
      },
      "source": [
        "summary.to_csv('summary.csv',encoding=\"utf-8-sig\")\n",
        "saved=pd.read_csv('summary.csv',index_col=0)\n",
        "print(saved)"
      ],
      "execution_count": 64,
      "outputs": [
        {
          "output_type": "stream",
          "text": [
            "            word  frequency  importance\n",
            "apple         사과          3           2\n",
            "banana       바나나          5           4\n",
            "pear           배          6           2\n",
            "watermelon    수박          2           3\n",
            "Elderberry  엘더베리          3           1\n"
          ],
          "name": "stdout"
        }
      ]
    },
    {
      "cell_type": "code",
      "metadata": {
        "id": "c4PEVPR0ssi6",
        "colab_type": "code",
        "colab": {}
      },
      "source": [
        ""
      ],
      "execution_count": 0,
      "outputs": []
    }
  ]
}