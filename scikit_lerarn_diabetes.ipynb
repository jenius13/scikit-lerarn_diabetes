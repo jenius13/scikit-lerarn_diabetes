{
  "nbformat": 4,
  "nbformat_minor": 0,
  "metadata": {
    "colab": {
      "name": "scikit-lerarn_diabetes",
      "provenance": [],
      "authorship_tag": "ABX9TyOQu4tyypEyfrwYCrqZ2Zlh",
      "include_colab_link": true
    },
    "kernelspec": {
      "name": "python3",
      "display_name": "Python 3"
    }
  },
  "cells": [
    {
      "cell_type": "markdown",
      "metadata": {
        "id": "view-in-github",
        "colab_type": "text"
      },
      "source": [
        "<a href=\"https://colab.research.google.com/github/jenius13/scikit-lerarn_diabetes/blob/master/scikit_lerarn_diabetes.ipynb\" target=\"_parent\"><img src=\"https://colab.research.google.com/assets/colab-badge.svg\" alt=\"Open In Colab\"/></a>"
      ]
    },
    {
      "cell_type": "code",
      "metadata": {
        "id": "MPfd9NJKt3iP",
        "colab_type": "code",
        "colab": {}
      },
      "source": [
        "import numpy as np\n",
        "import matplotlib.pyplot as plt\n",
        "import pandas as pd\n",
        "import seaborn as sns\n"
      ],
      "execution_count": 0,
      "outputs": []
    },
    {
      "cell_type": "markdown",
      "metadata": {
        "id": "LAhgWHWmCEin",
        "colab_type": "text"
      },
      "source": [
        "# Load Dataset"
      ]
    },
    {
      "cell_type": "code",
      "metadata": {
        "id": "miVK9UlGt-a0",
        "colab_type": "code",
        "outputId": "0a766216-eae6-491d-e949-55e21d1791de",
        "colab": {
          "base_uri": "https://localhost:8080/",
          "height": 202
        }
      },
      "source": [
        "data=pd.read_csv('/content/dataset_37_diabetes.csv')\n",
        "data.head()"
      ],
      "execution_count": 0,
      "outputs": [
        {
          "output_type": "execute_result",
          "data": {
            "text/html": [
              "<div>\n",
              "<style scoped>\n",
              "    .dataframe tbody tr th:only-of-type {\n",
              "        vertical-align: middle;\n",
              "    }\n",
              "\n",
              "    .dataframe tbody tr th {\n",
              "        vertical-align: top;\n",
              "    }\n",
              "\n",
              "    .dataframe thead th {\n",
              "        text-align: right;\n",
              "    }\n",
              "</style>\n",
              "<table border=\"1\" class=\"dataframe\">\n",
              "  <thead>\n",
              "    <tr style=\"text-align: right;\">\n",
              "      <th></th>\n",
              "      <th>preg</th>\n",
              "      <th>plas</th>\n",
              "      <th>pres</th>\n",
              "      <th>skin</th>\n",
              "      <th>insu</th>\n",
              "      <th>mass</th>\n",
              "      <th>pedi</th>\n",
              "      <th>age</th>\n",
              "      <th>class</th>\n",
              "    </tr>\n",
              "  </thead>\n",
              "  <tbody>\n",
              "    <tr>\n",
              "      <th>0</th>\n",
              "      <td>6</td>\n",
              "      <td>148</td>\n",
              "      <td>72</td>\n",
              "      <td>35</td>\n",
              "      <td>0</td>\n",
              "      <td>33.6</td>\n",
              "      <td>0.627</td>\n",
              "      <td>50</td>\n",
              "      <td>tested_positive</td>\n",
              "    </tr>\n",
              "    <tr>\n",
              "      <th>1</th>\n",
              "      <td>1</td>\n",
              "      <td>85</td>\n",
              "      <td>66</td>\n",
              "      <td>29</td>\n",
              "      <td>0</td>\n",
              "      <td>26.6</td>\n",
              "      <td>0.351</td>\n",
              "      <td>31</td>\n",
              "      <td>tested_negative</td>\n",
              "    </tr>\n",
              "    <tr>\n",
              "      <th>2</th>\n",
              "      <td>8</td>\n",
              "      <td>183</td>\n",
              "      <td>64</td>\n",
              "      <td>0</td>\n",
              "      <td>0</td>\n",
              "      <td>23.3</td>\n",
              "      <td>0.672</td>\n",
              "      <td>32</td>\n",
              "      <td>tested_positive</td>\n",
              "    </tr>\n",
              "    <tr>\n",
              "      <th>3</th>\n",
              "      <td>1</td>\n",
              "      <td>89</td>\n",
              "      <td>66</td>\n",
              "      <td>23</td>\n",
              "      <td>94</td>\n",
              "      <td>28.1</td>\n",
              "      <td>0.167</td>\n",
              "      <td>21</td>\n",
              "      <td>tested_negative</td>\n",
              "    </tr>\n",
              "    <tr>\n",
              "      <th>4</th>\n",
              "      <td>0</td>\n",
              "      <td>137</td>\n",
              "      <td>40</td>\n",
              "      <td>35</td>\n",
              "      <td>168</td>\n",
              "      <td>43.1</td>\n",
              "      <td>2.288</td>\n",
              "      <td>33</td>\n",
              "      <td>tested_positive</td>\n",
              "    </tr>\n",
              "  </tbody>\n",
              "</table>\n",
              "</div>"
            ],
            "text/plain": [
              "   preg  plas  pres  skin  insu  mass   pedi  age            class\n",
              "0     6   148    72    35     0  33.6  0.627   50  tested_positive\n",
              "1     1    85    66    29     0  26.6  0.351   31  tested_negative\n",
              "2     8   183    64     0     0  23.3  0.672   32  tested_positive\n",
              "3     1    89    66    23    94  28.1  0.167   21  tested_negative\n",
              "4     0   137    40    35   168  43.1  2.288   33  tested_positive"
            ]
          },
          "metadata": {
            "tags": []
          },
          "execution_count": 6
        }
      ]
    },
    {
      "cell_type": "markdown",
      "metadata": {
        "id": "MH5YlPpzCG34",
        "colab_type": "text"
      },
      "source": [
        "# Data info"
      ]
    },
    {
      "cell_type": "code",
      "metadata": {
        "id": "1bS21pQhuJHa",
        "colab_type": "code",
        "outputId": "7e9dc843-b8b3-46ea-85b6-93ef42237f0d",
        "colab": {
          "base_uri": "https://localhost:8080/",
          "height": 279
        }
      },
      "source": [
        "data.shape\n",
        "data.info()\n"
      ],
      "execution_count": 0,
      "outputs": [
        {
          "output_type": "stream",
          "text": [
            "<class 'pandas.core.frame.DataFrame'>\n",
            "RangeIndex: 768 entries, 0 to 767\n",
            "Data columns (total 9 columns):\n",
            "preg     768 non-null int64\n",
            "plas     768 non-null int64\n",
            "pres     768 non-null int64\n",
            "skin     768 non-null int64\n",
            "insu     768 non-null int64\n",
            "mass     768 non-null float64\n",
            "pedi     768 non-null float64\n",
            "age      768 non-null int64\n",
            "class    768 non-null object\n",
            "dtypes: float64(2), int64(6), object(1)\n",
            "memory usage: 54.1+ KB\n"
          ],
          "name": "stdout"
        }
      ]
    },
    {
      "cell_type": "code",
      "metadata": {
        "id": "dx2OEg82w55d",
        "colab_type": "code",
        "outputId": "e83cf56f-3c7e-49bd-cfe9-718e87d550e2",
        "colab": {
          "base_uri": "https://localhost:8080/",
          "height": 1000
        }
      },
      "source": [
        "col=data.columns\n",
        "\n",
        "for i in col:\n",
        "  print(data[i].describe())"
      ],
      "execution_count": 0,
      "outputs": [
        {
          "output_type": "stream",
          "text": [
            "count    768.000000\n",
            "mean       3.845052\n",
            "std        3.369578\n",
            "min        0.000000\n",
            "25%        1.000000\n",
            "50%        3.000000\n",
            "75%        6.000000\n",
            "max       17.000000\n",
            "Name: preg, dtype: float64\n",
            "count    768.000000\n",
            "mean     120.894531\n",
            "std       31.972618\n",
            "min        0.000000\n",
            "25%       99.000000\n",
            "50%      117.000000\n",
            "75%      140.250000\n",
            "max      199.000000\n",
            "Name: plas, dtype: float64\n",
            "count    768.000000\n",
            "mean      69.105469\n",
            "std       19.355807\n",
            "min        0.000000\n",
            "25%       62.000000\n",
            "50%       72.000000\n",
            "75%       80.000000\n",
            "max      122.000000\n",
            "Name: pres, dtype: float64\n",
            "count    768.000000\n",
            "mean      20.536458\n",
            "std       15.952218\n",
            "min        0.000000\n",
            "25%        0.000000\n",
            "50%       23.000000\n",
            "75%       32.000000\n",
            "max       99.000000\n",
            "Name: skin, dtype: float64\n",
            "count    768.000000\n",
            "mean      79.799479\n",
            "std      115.244002\n",
            "min        0.000000\n",
            "25%        0.000000\n",
            "50%       30.500000\n",
            "75%      127.250000\n",
            "max      846.000000\n",
            "Name: insu, dtype: float64\n",
            "count    768.000000\n",
            "mean      31.992578\n",
            "std        7.884160\n",
            "min        0.000000\n",
            "25%       27.300000\n",
            "50%       32.000000\n",
            "75%       36.600000\n",
            "max       67.100000\n",
            "Name: mass, dtype: float64\n",
            "count    768.000000\n",
            "mean       0.471876\n",
            "std        0.331329\n",
            "min        0.078000\n",
            "25%        0.243750\n",
            "50%        0.372500\n",
            "75%        0.626250\n",
            "max        2.420000\n",
            "Name: pedi, dtype: float64\n",
            "count    768.000000\n",
            "mean      33.240885\n",
            "std       11.760232\n",
            "min       21.000000\n",
            "25%       24.000000\n",
            "50%       29.000000\n",
            "75%       41.000000\n",
            "max       81.000000\n",
            "Name: age, dtype: float64\n",
            "count                 768\n",
            "unique                  2\n",
            "top       tested_negative\n",
            "freq                  500\n",
            "Name: class, dtype: object\n"
          ],
          "name": "stdout"
        }
      ]
    },
    {
      "cell_type": "markdown",
      "metadata": {
        "id": "Baz8fU9ACLAd",
        "colab_type": "text"
      },
      "source": [
        "# Class Negetive vs Positive"
      ]
    },
    {
      "cell_type": "code",
      "metadata": {
        "id": "pb4a52QK9EgP",
        "colab_type": "code",
        "outputId": "ad6d1f97-4340-47ad-db30-a4d4e53d3393",
        "colab": {
          "base_uri": "https://localhost:8080/",
          "height": 73
        }
      },
      "source": [
        "data['class'].value_counts()"
      ],
      "execution_count": 0,
      "outputs": [
        {
          "output_type": "execute_result",
          "data": {
            "text/plain": [
              "tested_negative    500\n",
              "tested_positive    268\n",
              "Name: class, dtype: int64"
            ]
          },
          "metadata": {
            "tags": []
          },
          "execution_count": 9
        }
      ]
    },
    {
      "cell_type": "code",
      "metadata": {
        "id": "tIE2kIB_9Pni",
        "colab_type": "code",
        "outputId": "187bc37d-9342-4566-f961-7c50213e8127",
        "colab": {
          "base_uri": "https://localhost:8080/",
          "height": 36
        }
      },
      "source": [
        "round(data['class'].value_counts()[0]/data['class'].value_counts()[1],2)"
      ],
      "execution_count": 0,
      "outputs": [
        {
          "output_type": "execute_result",
          "data": {
            "text/plain": [
              "1.87"
            ]
          },
          "metadata": {
            "tags": []
          },
          "execution_count": 10
        }
      ]
    },
    {
      "cell_type": "code",
      "metadata": {
        "id": "ud0Mfekb9y0M",
        "colab_type": "code",
        "outputId": "3244eeaa-f450-4188-f1b8-62a7af2ca33f",
        "colab": {
          "base_uri": "https://localhost:8080/",
          "height": 294
        }
      },
      "source": [
        "data.describe()"
      ],
      "execution_count": 0,
      "outputs": [
        {
          "output_type": "execute_result",
          "data": {
            "text/html": [
              "<div>\n",
              "<style scoped>\n",
              "    .dataframe tbody tr th:only-of-type {\n",
              "        vertical-align: middle;\n",
              "    }\n",
              "\n",
              "    .dataframe tbody tr th {\n",
              "        vertical-align: top;\n",
              "    }\n",
              "\n",
              "    .dataframe thead th {\n",
              "        text-align: right;\n",
              "    }\n",
              "</style>\n",
              "<table border=\"1\" class=\"dataframe\">\n",
              "  <thead>\n",
              "    <tr style=\"text-align: right;\">\n",
              "      <th></th>\n",
              "      <th>preg</th>\n",
              "      <th>plas</th>\n",
              "      <th>pres</th>\n",
              "      <th>skin</th>\n",
              "      <th>insu</th>\n",
              "      <th>mass</th>\n",
              "      <th>pedi</th>\n",
              "      <th>age</th>\n",
              "    </tr>\n",
              "  </thead>\n",
              "  <tbody>\n",
              "    <tr>\n",
              "      <th>count</th>\n",
              "      <td>768.000000</td>\n",
              "      <td>768.000000</td>\n",
              "      <td>768.000000</td>\n",
              "      <td>768.000000</td>\n",
              "      <td>768.000000</td>\n",
              "      <td>768.000000</td>\n",
              "      <td>768.000000</td>\n",
              "      <td>768.000000</td>\n",
              "    </tr>\n",
              "    <tr>\n",
              "      <th>mean</th>\n",
              "      <td>3.845052</td>\n",
              "      <td>120.894531</td>\n",
              "      <td>69.105469</td>\n",
              "      <td>20.536458</td>\n",
              "      <td>79.799479</td>\n",
              "      <td>31.992578</td>\n",
              "      <td>0.471876</td>\n",
              "      <td>33.240885</td>\n",
              "    </tr>\n",
              "    <tr>\n",
              "      <th>std</th>\n",
              "      <td>3.369578</td>\n",
              "      <td>31.972618</td>\n",
              "      <td>19.355807</td>\n",
              "      <td>15.952218</td>\n",
              "      <td>115.244002</td>\n",
              "      <td>7.884160</td>\n",
              "      <td>0.331329</td>\n",
              "      <td>11.760232</td>\n",
              "    </tr>\n",
              "    <tr>\n",
              "      <th>min</th>\n",
              "      <td>0.000000</td>\n",
              "      <td>0.000000</td>\n",
              "      <td>0.000000</td>\n",
              "      <td>0.000000</td>\n",
              "      <td>0.000000</td>\n",
              "      <td>0.000000</td>\n",
              "      <td>0.078000</td>\n",
              "      <td>21.000000</td>\n",
              "    </tr>\n",
              "    <tr>\n",
              "      <th>25%</th>\n",
              "      <td>1.000000</td>\n",
              "      <td>99.000000</td>\n",
              "      <td>62.000000</td>\n",
              "      <td>0.000000</td>\n",
              "      <td>0.000000</td>\n",
              "      <td>27.300000</td>\n",
              "      <td>0.243750</td>\n",
              "      <td>24.000000</td>\n",
              "    </tr>\n",
              "    <tr>\n",
              "      <th>50%</th>\n",
              "      <td>3.000000</td>\n",
              "      <td>117.000000</td>\n",
              "      <td>72.000000</td>\n",
              "      <td>23.000000</td>\n",
              "      <td>30.500000</td>\n",
              "      <td>32.000000</td>\n",
              "      <td>0.372500</td>\n",
              "      <td>29.000000</td>\n",
              "    </tr>\n",
              "    <tr>\n",
              "      <th>75%</th>\n",
              "      <td>6.000000</td>\n",
              "      <td>140.250000</td>\n",
              "      <td>80.000000</td>\n",
              "      <td>32.000000</td>\n",
              "      <td>127.250000</td>\n",
              "      <td>36.600000</td>\n",
              "      <td>0.626250</td>\n",
              "      <td>41.000000</td>\n",
              "    </tr>\n",
              "    <tr>\n",
              "      <th>max</th>\n",
              "      <td>17.000000</td>\n",
              "      <td>199.000000</td>\n",
              "      <td>122.000000</td>\n",
              "      <td>99.000000</td>\n",
              "      <td>846.000000</td>\n",
              "      <td>67.100000</td>\n",
              "      <td>2.420000</td>\n",
              "      <td>81.000000</td>\n",
              "    </tr>\n",
              "  </tbody>\n",
              "</table>\n",
              "</div>"
            ],
            "text/plain": [
              "             preg        plas        pres  ...        mass        pedi         age\n",
              "count  768.000000  768.000000  768.000000  ...  768.000000  768.000000  768.000000\n",
              "mean     3.845052  120.894531   69.105469  ...   31.992578    0.471876   33.240885\n",
              "std      3.369578   31.972618   19.355807  ...    7.884160    0.331329   11.760232\n",
              "min      0.000000    0.000000    0.000000  ...    0.000000    0.078000   21.000000\n",
              "25%      1.000000   99.000000   62.000000  ...   27.300000    0.243750   24.000000\n",
              "50%      3.000000  117.000000   72.000000  ...   32.000000    0.372500   29.000000\n",
              "75%      6.000000  140.250000   80.000000  ...   36.600000    0.626250   41.000000\n",
              "max     17.000000  199.000000  122.000000  ...   67.100000    2.420000   81.000000\n",
              "\n",
              "[8 rows x 8 columns]"
            ]
          },
          "metadata": {
            "tags": []
          },
          "execution_count": 11
        }
      ]
    },
    {
      "cell_type": "code",
      "metadata": {
        "id": "pUYOfLNyAnjx",
        "colab_type": "code",
        "outputId": "3903dba9-05a8-42c3-fdba-0055e5b23be6",
        "colab": {
          "base_uri": "https://localhost:8080/",
          "height": 299
        }
      },
      "source": [
        "sns.countplot(data['class'])"
      ],
      "execution_count": 0,
      "outputs": [
        {
          "output_type": "execute_result",
          "data": {
            "text/plain": [
              "<matplotlib.axes._subplots.AxesSubplot at 0x7f2034f277b8>"
            ]
          },
          "metadata": {
            "tags": []
          },
          "execution_count": 12
        },
        {
          "output_type": "display_data",
          "data": {
            "image/png": "[encoded data removed]",
            "text/plain": [
              "<Figure size 432x288 with 1 Axes>"
            ]
          },
          "metadata": {
            "tags": []
          }
        }
      ]
    },
    {
      "cell_type": "code",
      "metadata": {
        "id": "2FEQIajiA5Lv",
        "colab_type": "code",
        "outputId": "c80632e0-9a57-4750-9891-d239863cb74a",
        "colab": {
          "base_uri": "https://localhost:8080/",
          "height": 204
        }
      },
      "source": [
        "data.isnull().sum()"
      ],
      "execution_count": 0,
      "outputs": [
        {
          "output_type": "execute_result",
          "data": {
            "text/plain": [
              "preg     0\n",
              "plas     0\n",
              "pres     0\n",
              "skin     0\n",
              "insu     0\n",
              "mass     0\n",
              "pedi     0\n",
              "age      0\n",
              "class    0\n",
              "dtype: int64"
            ]
          },
          "metadata": {
            "tags": []
          },
          "execution_count": 13
        }
      ]
    },
    {
      "cell_type": "code",
      "metadata": {
        "id": "kLa4oS1vBsc0",
        "colab_type": "code",
        "outputId": "0dcf8e69-885c-4dd8-dd06-0b34874610c8",
        "colab": {
          "base_uri": "https://localhost:8080/",
          "height": 415
        }
      },
      "source": [
        "pd.isnull(data)"
      ],
      "execution_count": 0,
      "outputs": [
        {
          "output_type": "execute_result",
          "data": {
            "text/html": [
              "<div>\n",
              "<style scoped>\n",
              "    .dataframe tbody tr th:only-of-type {\n",
              "        vertical-align: middle;\n",
              "    }\n",
              "\n",
              "    .dataframe tbody tr th {\n",
              "        vertical-align: top;\n",
              "    }\n",
              "\n",
              "    .dataframe thead th {\n",
              "        text-align: right;\n",
              "    }\n",
              "</style>\n",
              "<table border=\"1\" class=\"dataframe\">\n",
              "  <thead>\n",
              "    <tr style=\"text-align: right;\">\n",
              "      <th></th>\n",
              "      <th>preg</th>\n",
              "      <th>plas</th>\n",
              "      <th>pres</th>\n",
              "      <th>skin</th>\n",
              "      <th>insu</th>\n",
              "      <th>mass</th>\n",
              "      <th>pedi</th>\n",
              "      <th>age</th>\n",
              "      <th>class</th>\n",
              "    </tr>\n",
              "  </thead>\n",
              "  <tbody>\n",
              "    <tr>\n",
              "      <th>0</th>\n",
              "      <td>False</td>\n",
              "      <td>False</td>\n",
              "      <td>False</td>\n",
              "      <td>False</td>\n",
              "      <td>False</td>\n",
              "      <td>False</td>\n",
              "      <td>False</td>\n",
              "      <td>False</td>\n",
              "      <td>False</td>\n",
              "    </tr>\n",
              "    <tr>\n",
              "      <th>1</th>\n",
              "      <td>False</td>\n",
              "      <td>False</td>\n",
              "      <td>False</td>\n",
              "      <td>False</td>\n",
              "      <td>False</td>\n",
              "      <td>False</td>\n",
              "      <td>False</td>\n",
              "      <td>False</td>\n",
              "      <td>False</td>\n",
              "    </tr>\n",
              "    <tr>\n",
              "      <th>2</th>\n",
              "      <td>False</td>\n",
              "      <td>False</td>\n",
              "      <td>False</td>\n",
              "      <td>False</td>\n",
              "      <td>False</td>\n",
              "      <td>False</td>\n",
              "      <td>False</td>\n",
              "      <td>False</td>\n",
              "      <td>False</td>\n",
              "    </tr>\n",
              "    <tr>\n",
              "      <th>3</th>\n",
              "      <td>False</td>\n",
              "      <td>False</td>\n",
              "      <td>False</td>\n",
              "      <td>False</td>\n",
              "      <td>False</td>\n",
              "      <td>False</td>\n",
              "      <td>False</td>\n",
              "      <td>False</td>\n",
              "      <td>False</td>\n",
              "    </tr>\n",
              "    <tr>\n",
              "      <th>4</th>\n",
              "      <td>False</td>\n",
              "      <td>False</td>\n",
              "      <td>False</td>\n",
              "      <td>False</td>\n",
              "      <td>False</td>\n",
              "      <td>False</td>\n",
              "      <td>False</td>\n",
              "      <td>False</td>\n",
              "      <td>False</td>\n",
              "    </tr>\n",
              "    <tr>\n",
              "      <th>...</th>\n",
              "      <td>...</td>\n",
              "      <td>...</td>\n",
              "      <td>...</td>\n",
              "      <td>...</td>\n",
              "      <td>...</td>\n",
              "      <td>...</td>\n",
              "      <td>...</td>\n",
              "      <td>...</td>\n",
              "      <td>...</td>\n",
              "    </tr>\n",
              "    <tr>\n",
              "      <th>763</th>\n",
              "      <td>False</td>\n",
              "      <td>False</td>\n",
              "      <td>False</td>\n",
              "      <td>False</td>\n",
              "      <td>False</td>\n",
              "      <td>False</td>\n",
              "      <td>False</td>\n",
              "      <td>False</td>\n",
              "      <td>False</td>\n",
              "    </tr>\n",
              "    <tr>\n",
              "      <th>764</th>\n",
              "      <td>False</td>\n",
              "      <td>False</td>\n",
              "      <td>False</td>\n",
              "      <td>False</td>\n",
              "      <td>False</td>\n",
              "      <td>False</td>\n",
              "      <td>False</td>\n",
              "      <td>False</td>\n",
              "      <td>False</td>\n",
              "    </tr>\n",
              "    <tr>\n",
              "      <th>765</th>\n",
              "      <td>False</td>\n",
              "      <td>False</td>\n",
              "      <td>False</td>\n",
              "      <td>False</td>\n",
              "      <td>False</td>\n",
              "      <td>False</td>\n",
              "      <td>False</td>\n",
              "      <td>False</td>\n",
              "      <td>False</td>\n",
              "    </tr>\n",
              "    <tr>\n",
              "      <th>766</th>\n",
              "      <td>False</td>\n",
              "      <td>False</td>\n",
              "      <td>False</td>\n",
              "      <td>False</td>\n",
              "      <td>False</td>\n",
              "      <td>False</td>\n",
              "      <td>False</td>\n",
              "      <td>False</td>\n",
              "      <td>False</td>\n",
              "    </tr>\n",
              "    <tr>\n",
              "      <th>767</th>\n",
              "      <td>False</td>\n",
              "      <td>False</td>\n",
              "      <td>False</td>\n",
              "      <td>False</td>\n",
              "      <td>False</td>\n",
              "      <td>False</td>\n",
              "      <td>False</td>\n",
              "      <td>False</td>\n",
              "      <td>False</td>\n",
              "    </tr>\n",
              "  </tbody>\n",
              "</table>\n",
              "<p>768 rows × 9 columns</p>\n",
              "</div>"
            ],
            "text/plain": [
              "      preg   plas   pres   skin   insu   mass   pedi    age  class\n",
              "0    False  False  False  False  False  False  False  False  False\n",
              "1    False  False  False  False  False  False  False  False  False\n",
              "2    False  False  False  False  False  False  False  False  False\n",
              "3    False  False  False  False  False  False  False  False  False\n",
              "4    False  False  False  False  False  False  False  False  False\n",
              "..     ...    ...    ...    ...    ...    ...    ...    ...    ...\n",
              "763  False  False  False  False  False  False  False  False  False\n",
              "764  False  False  False  False  False  False  False  False  False\n",
              "765  False  False  False  False  False  False  False  False  False\n",
              "766  False  False  False  False  False  False  False  False  False\n",
              "767  False  False  False  False  False  False  False  False  False\n",
              "\n",
              "[768 rows x 9 columns]"
            ]
          },
          "metadata": {
            "tags": []
          },
          "execution_count": 14
        }
      ]
    },
    {
      "cell_type": "code",
      "metadata": {
        "id": "B9KKPhWHB0aY",
        "colab_type": "code",
        "outputId": "eed0a6d3-4b15-4a37-bfa0-9de3551fcc34",
        "colab": {
          "base_uri": "https://localhost:8080/",
          "height": 279
        }
      },
      "source": [
        "df=pd.DataFrame(data)\n",
        "print(df)"
      ],
      "execution_count": 0,
      "outputs": [
        {
          "output_type": "stream",
          "text": [
            "     preg  plas  pres  skin  insu  mass   pedi  age            class\n",
            "0       6   148    72    35     0  33.6  0.627   50  tested_positive\n",
            "1       1    85    66    29     0  26.6  0.351   31  tested_negative\n",
            "2       8   183    64     0     0  23.3  0.672   32  tested_positive\n",
            "3       1    89    66    23    94  28.1  0.167   21  tested_negative\n",
            "4       0   137    40    35   168  43.1  2.288   33  tested_positive\n",
            "..    ...   ...   ...   ...   ...   ...    ...  ...              ...\n",
            "763    10   101    76    48   180  32.9  0.171   63  tested_negative\n",
            "764     2   122    70    27     0  36.8  0.340   27  tested_negative\n",
            "765     5   121    72    23   112  26.2  0.245   30  tested_negative\n",
            "766     1   126    60     0     0  30.1  0.349   47  tested_positive\n",
            "767     1    93    70    31     0  30.4  0.315   23  tested_negative\n",
            "\n",
            "[768 rows x 9 columns]\n"
          ],
          "name": "stdout"
        }
      ]
    },
    {
      "cell_type": "markdown",
      "metadata": {
        "id": "fkdZv4xHxbHE",
        "colab_type": "text"
      },
      "source": [
        "# LabelEncoder\n",
        "\n",
        "#####LabelEncoder를 이용하여 class를 0,1로 바꿔 준다"
      ]
    },
    {
      "cell_type": "code",
      "metadata": {
        "id": "AjVrDW_pvAFR",
        "colab_type": "code",
        "outputId": "3687ca77-4228-4b26-f864-396dc5ad90d8",
        "colab": {
          "base_uri": "https://localhost:8080/",
          "height": 279
        }
      },
      "source": [
        "from sklearn.preprocessing import LabelEncoder\n",
        "lb_make=LabelEncoder()\n",
        "df['class']=lb_make.fit_transform(df['class'])\n",
        "\n",
        "print(df)"
      ],
      "execution_count": 0,
      "outputs": [
        {
          "output_type": "stream",
          "text": [
            "     preg  plas  pres  skin  insu  mass   pedi  age  class\n",
            "0       6   148    72    35     0  33.6  0.627   50      1\n",
            "1       1    85    66    29     0  26.6  0.351   31      0\n",
            "2       8   183    64     0     0  23.3  0.672   32      1\n",
            "3       1    89    66    23    94  28.1  0.167   21      0\n",
            "4       0   137    40    35   168  43.1  2.288   33      1\n",
            "..    ...   ...   ...   ...   ...   ...    ...  ...    ...\n",
            "763    10   101    76    48   180  32.9  0.171   63      0\n",
            "764     2   122    70    27     0  36.8  0.340   27      0\n",
            "765     5   121    72    23   112  26.2  0.245   30      0\n",
            "766     1   126    60     0     0  30.1  0.349   47      1\n",
            "767     1    93    70    31     0  30.4  0.315   23      0\n",
            "\n",
            "[768 rows x 9 columns]\n"
          ],
          "name": "stdout"
        }
      ]
    },
    {
      "cell_type": "code",
      "metadata": {
        "id": "sPAbOjanvZ3a",
        "colab_type": "code",
        "outputId": "50cc4c60-819a-43ce-f010-c8f73c29d57c",
        "colab": {
          "base_uri": "https://localhost:8080/",
          "height": 391
        }
      },
      "source": [
        "print(\"is null->\",pd.isnull(df).sum())\n",
        "print(\"is nan->\",pd.isna(df).sum())"
      ],
      "execution_count": 0,
      "outputs": [
        {
          "output_type": "stream",
          "text": [
            "is null-> preg     0\n",
            "plas     0\n",
            "pres     0\n",
            "skin     0\n",
            "insu     0\n",
            "mass     0\n",
            "pedi     0\n",
            "age      0\n",
            "class    0\n",
            "dtype: int64\n",
            "is nan-> preg     0\n",
            "plas     0\n",
            "pres     0\n",
            "skin     0\n",
            "insu     0\n",
            "mass     0\n",
            "pedi     0\n",
            "age      0\n",
            "class    0\n",
            "dtype: int64\n"
          ],
          "name": "stdout"
        }
      ]
    },
    {
      "cell_type": "markdown",
      "metadata": {
        "id": "CB8_36ORDF2r",
        "colab_type": "text"
      },
      "source": [
        "# Positive vs Negative"
      ]
    },
    {
      "cell_type": "code",
      "metadata": {
        "id": "jnprOXI5xxFP",
        "colab_type": "code",
        "outputId": "ab8ebf39-5e2d-4b24-b2f9-5c100d65e72d",
        "colab": {
          "base_uri": "https://localhost:8080/",
          "height": 404
        }
      },
      "source": [
        "f,ax=plt.subplots(1,2,figsize=(12,6))\n",
        "df['class'].value_counts().plot.pie(explode=[0,0.1],autopct='%1.1f%%',ax=ax[0],shadow=True)\n",
        "ax[0].set_title('positive')\n",
        "ax[0].set_ylabel('')\n",
        "sns.countplot('class',data=df,ax=ax[1])\n",
        "ax[1].set_title('positive')\n",
        "plt.show()"
      ],
      "execution_count": 0,
      "outputs": [
        {
          "output_type": "display_data",
          "data": {
            "image/png": "[encoded data removed]",
            "text/plain": [
              "<Figure size 864x432 with 2 Axes>"
            ]
          },
          "metadata": {
            "tags": []
          }
        }
      ]
    },
    {
      "cell_type": "markdown",
      "metadata": {
        "id": "69PZd6q-DVPB",
        "colab_type": "text"
      },
      "source": [
        "# Positive vs Negative (considering age)"
      ]
    },
    {
      "cell_type": "code",
      "metadata": {
        "id": "ajaBJt4Zx77R",
        "colab_type": "code",
        "outputId": "77c93dc5-aec8-44e1-ba82-418f0fbd13a3",
        "colab": {
          "base_uri": "https://localhost:8080/",
          "height": 516
        }
      },
      "source": [
        "f,ax=plt.subplots(1,2,figsize=(18,8))\n",
        "df[['age','class']].groupby(['age']).mean().plot.bar(ax=ax[0])\n",
        "ax[0].set_title('positive vs age')\n",
        "sns.countplot('age',hue='class',data=df,ax=ax[1])\n",
        "ax[1].set_title('age:positive vs negative')\n",
        "plt.show()\n"
      ],
      "execution_count": 0,
      "outputs": [
        {
          "output_type": "display_data",
          "data": {
            "image/png": "[encoded data removed]",
            "text/plain": [
              "<Figure size 1296x576 with 2 Axes>"
            ]
          },
          "metadata": {
            "tags": []
          }
        }
      ]
    },
    {
      "cell_type": "markdown",
      "metadata": {
        "id": "XhPnl0CCDXkS",
        "colab_type": "text"
      },
      "source": [
        "# Train_Test_Split"
      ]
    },
    {
      "cell_type": "code",
      "metadata": {
        "id": "-c-bv_9G1Le_",
        "colab_type": "code",
        "colab": {}
      },
      "source": [
        "from sklearn import datasets, linear_model\n",
        "from sklearn.model_selection import train_test_split"
      ],
      "execution_count": 0,
      "outputs": []
    },
    {
      "cell_type": "code",
      "metadata": {
        "id": "pgUdTq0g3jnw",
        "colab_type": "code",
        "outputId": "3719916a-f305-480c-cdc4-b4ea78297d0b",
        "colab": {
          "base_uri": "https://localhost:8080/",
          "height": 55
        }
      },
      "source": [
        "# class 부분을 제외한 모든 부분\n",
        "X=df.iloc[:,:-1]\n",
        "# class부분만 labeling\n",
        "y=df.iloc[:,-1]\n",
        "\n",
        "# print(X)\n",
        "# print(y)\n",
        "\n",
        "X_train,X_test,y_train,y_test=train_test_split(X,y,test_size=0.2)\n",
        "print(X_train.shape,y_train.shape)\n",
        "print(X_test.shape,y_test.shape)"
      ],
      "execution_count": 0,
      "outputs": [
        {
          "output_type": "stream",
          "text": [
            "(614, 8) (614,)\n",
            "(154, 8) (154,)\n"
          ],
          "name": "stdout"
        }
      ]
    },
    {
      "cell_type": "code",
      "metadata": {
        "id": "eYdb3FME32Bs",
        "colab_type": "code",
        "colab": {}
      },
      "source": [
        "\n",
        "from sklearn.model_selection import train_test_split\n",
        "from sklearn.model_selection import KFold, cross_val_score, cross_val_predict\n",
        "from sklearn import metrics\n",
        "\n",
        "from sklearn import svm\n",
        "from sklearn.linear_model import LogisticRegression\n",
        "from sklearn.ensemble import RandomForestClassifier\n",
        "from sklearn.neighbors import KNeighborsClassifier\n",
        "from sklearn.tree import DecisionTreeClassifier"
      ],
      "execution_count": 0,
      "outputs": []
    },
    {
      "cell_type": "markdown",
      "metadata": {
        "id": "8Q_UB6c_Dhyu",
        "colab_type": "text"
      },
      "source": [
        "# Decision Tree Classifier"
      ]
    },
    {
      "cell_type": "code",
      "metadata": {
        "id": "jA0NrQ9F9Byr",
        "colab_type": "code",
        "outputId": "3622fe8b-aefa-4522-b1a6-9ae48c077859",
        "colab": {
          "base_uri": "https://localhost:8080/",
          "height": 36
        }
      },
      "source": [
        "model=DecisionTreeClassifier()\n",
        "model.fit(X_train,y_train)\n",
        "\n",
        "y_pred=model.predict(X_test)\n",
        "print('DecisionTreeClassifier :%.2f' % (metrics.accuracy_score(y_pred,y_test)*100))"
      ],
      "execution_count": 0,
      "outputs": [
        {
          "output_type": "stream",
          "text": [
            "DecisionTreeClassifier :66.88\n"
          ],
          "name": "stdout"
        }
      ]
    },
    {
      "cell_type": "markdown",
      "metadata": {
        "id": "UG5uHJX9DmGv",
        "colab_type": "text"
      },
      "source": [
        "# Random Forest Classifier"
      ]
    },
    {
      "cell_type": "code",
      "metadata": {
        "id": "j7L0oIYO9paB",
        "colab_type": "code",
        "outputId": "3ce43573-bbfa-40b1-ac6c-6ede4833ac93",
        "colab": {
          "base_uri": "https://localhost:8080/",
          "height": 36
        }
      },
      "source": [
        "model=RandomForestClassifier()\n",
        "model.fit(X_train,y_train)\n",
        "\n",
        "y_pred=model.predict(X_test)\n",
        "print('RandomForestClassifier:%.2f'%(metrics.accuracy_score(y_pred,y_test)*100))"
      ],
      "execution_count": 0,
      "outputs": [
        {
          "output_type": "stream",
          "text": [
            "RandomForestClassifier:74.68\n"
          ],
          "name": "stdout"
        }
      ]
    },
    {
      "cell_type": "markdown",
      "metadata": {
        "id": "Sx5jYIFjDrSi",
        "colab_type": "text"
      },
      "source": [
        "# Feature Importance"
      ]
    },
    {
      "cell_type": "code",
      "metadata": {
        "id": "wOYJUcDsAbtM",
        "colab_type": "code",
        "outputId": "13666fc6-7671-413f-f28e-b487bf9014b5",
        "colab": {
          "base_uri": "https://localhost:8080/",
          "height": 185
        }
      },
      "source": [
        "features = pd.Series(\n",
        "    model.feature_importances_,\n",
        "    index=X_train.columns\n",
        ").sort_values(ascending=False)\n",
        "\n",
        "print(features)\n"
      ],
      "execution_count": 0,
      "outputs": [
        {
          "output_type": "stream",
          "text": [
            "plas    0.270996\n",
            "mass    0.165067\n",
            "age     0.133977\n",
            "pedi    0.126823\n",
            "pres    0.089076\n",
            "preg    0.076481\n",
            "insu    0.069395\n",
            "skin    0.068184\n",
            "dtype: float64\n"
          ],
          "name": "stdout"
        }
      ]
    },
    {
      "cell_type": "markdown",
      "metadata": {
        "id": "6v7yhz3pD19V",
        "colab_type": "text"
      },
      "source": [
        "##### plas,mass가 중요 features로 나타나며 우리가 알고 있는 age가 그 다음의 중요 feature로 나타났다.\n",
        "#### plas,mass,age,pedi가 주요 features"
      ]
    },
    {
      "cell_type": "code",
      "metadata": {
        "id": "n3C5T-OXB5_j",
        "colab_type": "code",
        "colab": {}
      },
      "source": [
        ""
      ],
      "execution_count": 0,
      "outputs": []
    }
  ]
}